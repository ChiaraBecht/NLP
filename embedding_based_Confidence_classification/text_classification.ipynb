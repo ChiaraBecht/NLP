{
 "cells": [
  {
   "cell_type": "code",
   "execution_count": 1,
   "metadata": {},
   "outputs": [
    {
     "name": "stderr",
     "output_type": "stream",
     "text": [
      "/commons/conda/spacy/lib/python3.10/site-packages/tqdm/auto.py:22: TqdmWarning: IProgress not found. Please update jupyter and ipywidgets. See https://ipywidgets.readthedocs.io/en/stable/user_install.html\n",
      "  from .autonotebook import tqdm as notebook_tqdm\n"
     ]
    }
   ],
   "source": [
    "from flair.embeddings import TransformerDocumentEmbeddings\n",
    "from flair.embeddings import SentenceTransformerDocumentEmbeddings\n",
    "from flair.embeddings import StackedEmbeddings\n",
    "from flair.data import Sentence\n",
    "from flair.datasets import CSVClassificationCorpus\n",
    "from flair.models import TextClassifier\n",
    "from flair.trainers import ModelTrainer"
   ]
  },
  {
   "cell_type": "code",
   "execution_count": 2,
   "metadata": {},
   "outputs": [],
   "source": [
    "# init embedding\n",
    "# source: https://huggingface.co/gsarti/scibert-nli\n",
    "#sci_embedding = SentenceTransformerDocumentEmbeddings(\"allenai/scibert_scivocab_uncased\")"
   ]
  },
  {
   "cell_type": "code",
   "execution_count": 3,
   "metadata": {},
   "outputs": [],
   "source": [
    "from flair.embeddings import SentenceTransformerDocumentEmbeddings\n",
    "# source: https://huggingface.co/pritamdeka/BioBERT-mnli-snli-scinli-scitail-mednli-stsb\n",
    "# init embedding\n",
    "bio_embedding = SentenceTransformerDocumentEmbeddings(\"pritamdeka/BioBERT-mnli-snli-scinli-scitail-mednli-stsb\")"
   ]
  },
  {
   "cell_type": "code",
   "execution_count": 4,
   "metadata": {},
   "outputs": [],
   "source": [
    "# combine the two sentence embeddings\n",
    "#combined = [bio_embedding, sci_embedding]\n",
    "#stack = StackedEmbeddings(combined)"
   ]
  },
  {
   "cell_type": "code",
   "execution_count": 5,
   "metadata": {},
   "outputs": [
    {
     "name": "stdout",
     "output_type": "stream",
     "text": [
      "2023-02-05 21:00:27,951 Reading data from /students/2022-2023/master/spacey/chiara/Meta-knowledge_GENIA_corpus/corpus\n",
      "2023-02-05 21:00:27,953 Train: /students/2022-2023/master/spacey/chiara/Meta-knowledge_GENIA_corpus/corpus/train.csv\n",
      "2023-02-05 21:00:27,953 Dev: /students/2022-2023/master/spacey/chiara/Meta-knowledge_GENIA_corpus/corpus/dev.csv\n",
      "2023-02-05 21:00:27,954 Test: /students/2022-2023/master/spacey/chiara/Meta-knowledge_GENIA_corpus/corpus/test.csv\n",
      "Corpus: 2374 train + 607 dev + 607 test sentences\n"
     ]
    }
   ],
   "source": [
    "# Load tagged corpus\n",
    "# this is the folder in which train, test and dev files reside\n",
    "data_folder = r'/students/2022-2023/master/spacey/chiara/Meta-knowledge_GENIA_corpus/corpus/'\n",
    "#print(data_folder)\n",
    "column_name_map = {0: \"text\", 1:\"label\"}  \n",
    "label_type = \"label\" \n",
    "\n",
    "corpus = CSVClassificationCorpus(data_folder, \n",
    "                                        column_name_map, \n",
    "                                        skip_header=True, \n",
    "                                        delimiter=\"|\",\n",
    "                                        train_file= 'train.csv',\n",
    "                                        dev_file= 'dev.csv',\n",
    "                                        test_file= 'test.csv', \n",
    "                                        label_type=label_type)\n",
    "\n",
    "print(corpus)"
   ]
  },
  {
   "cell_type": "code",
   "execution_count": 6,
   "metadata": {},
   "outputs": [
    {
     "name": "stdout",
     "output_type": "stream",
     "text": [
      "2023-02-05 21:00:29,353 Computing label dictionary. Progress:\n"
     ]
    },
    {
     "name": "stderr",
     "output_type": "stream",
     "text": [
      "2374it [00:01, 2069.28it/s]"
     ]
    },
    {
     "name": "stdout",
     "output_type": "stream",
     "text": [
      "2023-02-05 21:00:30,505 Dictionary created for label 'label' with 4 values: L2 (seen 1068 times), L3 (seen 1000 times), L1 (seen 306 times)\n"
     ]
    },
    {
     "name": "stderr",
     "output_type": "stream",
     "text": [
      "\n"
     ]
    }
   ],
   "source": [
    "label_dict = corpus.make_label_dictionary(label_type=label_type)"
   ]
  },
  {
   "cell_type": "code",
   "execution_count": 7,
   "metadata": {},
   "outputs": [],
   "source": [
    "classifier = TextClassifier(bio_embedding, label_dictionary = label_dict, label_type = label_type)"
   ]
  },
  {
   "cell_type": "code",
   "execution_count": 8,
   "metadata": {},
   "outputs": [
    {
     "name": "stdout",
     "output_type": "stream",
     "text": [
      "2023-02-05 21:00:31,114 ----------------------------------------------------------------------------------------------------\n",
      "2023-02-05 21:00:31,115 Model: \"TextClassifier(\n",
      "  (decoder): Linear(in_features=768, out_features=4, bias=True)\n",
      "  (dropout): Dropout(p=0.0, inplace=False)\n",
      "  (locked_dropout): LockedDropout(p=0.0)\n",
      "  (word_dropout): WordDropout(p=0.0)\n",
      "  (loss_function): CrossEntropyLoss()\n",
      "  (document_embeddings): SentenceTransformerDocumentEmbeddings(\n",
      "    (model): SentenceTransformer(\n",
      "      (0): Transformer({'max_seq_length': 100, 'do_lower_case': False}) with Transformer model: BertModel \n",
      "      (1): Pooling({'word_embedding_dimension': 768, 'pooling_mode_cls_token': False, 'pooling_mode_mean_tokens': True, 'pooling_mode_max_tokens': False, 'pooling_mode_mean_sqrt_len_tokens': False})\n",
      "    )\n",
      "  )\n",
      "  (weights): None\n",
      "  (weight_tensor) None\n",
      ")\"\n",
      "2023-02-05 21:00:31,771 ----------------------------------------------------------------------------------------------------\n",
      "2023-02-05 21:00:31,773 Corpus: \"Corpus: 2374 train + 607 dev + 607 test sentences\"\n",
      "2023-02-05 21:00:31,774 ----------------------------------------------------------------------------------------------------\n",
      "2023-02-05 21:00:31,777 Parameters:\n",
      "2023-02-05 21:00:31,780  - learning_rate: \"0.100000\"\n",
      "2023-02-05 21:00:31,783  - mini_batch_size: \"40\"\n",
      "2023-02-05 21:00:31,783  - patience: \"3\"\n",
      "2023-02-05 21:00:31,784  - anneal_factor: \"0.5\"\n",
      "2023-02-05 21:00:31,785  - max_epochs: \"10\"\n",
      "2023-02-05 21:00:31,786  - shuffle: \"True\"\n",
      "2023-02-05 21:00:31,787  - train_with_dev: \"False\"\n",
      "2023-02-05 21:00:31,789  - batch_growth_annealing: \"False\"\n",
      "2023-02-05 21:00:31,790 ----------------------------------------------------------------------------------------------------\n",
      "2023-02-05 21:00:31,793 Model training base path: \"classifier\"\n",
      "2023-02-05 21:00:31,793 ----------------------------------------------------------------------------------------------------\n",
      "2023-02-05 21:00:31,794 Device: cpu\n",
      "2023-02-05 21:00:31,795 ----------------------------------------------------------------------------------------------------\n",
      "2023-02-05 21:00:31,796 Embeddings storage mode: cpu\n",
      "2023-02-05 21:00:31,797 ----------------------------------------------------------------------------------------------------\n",
      "2023-02-05 21:00:52,117 epoch 1 - iter 6/60 - loss 0.02118324 - samples/sec: 11.88 - lr: 0.100000\n",
      "2023-02-05 21:01:12,185 epoch 1 - iter 12/60 - loss 0.01723327 - samples/sec: 12.03 - lr: 0.100000\n",
      "2023-02-05 21:01:32,190 epoch 1 - iter 18/60 - loss 0.01581282 - samples/sec: 12.22 - lr: 0.100000\n",
      "2023-02-05 21:01:52,175 epoch 1 - iter 24/60 - loss 0.01512274 - samples/sec: 12.08 - lr: 0.100000\n",
      "2023-02-05 21:02:12,485 epoch 1 - iter 30/60 - loss 0.01452532 - samples/sec: 11.88 - lr: 0.100000\n",
      "2023-02-05 21:02:31,916 epoch 1 - iter 36/60 - loss 0.01781227 - samples/sec: 12.42 - lr: 0.100000\n",
      "2023-02-05 21:02:50,177 epoch 1 - iter 42/60 - loss 0.01547831 - samples/sec: 13.21 - lr: 0.100000\n",
      "2023-02-05 21:03:08,836 epoch 1 - iter 48/60 - loss 0.01358968 - samples/sec: 12.93 - lr: 0.100000\n",
      "2023-02-05 21:03:28,033 epoch 1 - iter 54/60 - loss 0.01210844 - samples/sec: 12.79 - lr: 0.100000\n",
      "2023-02-05 21:03:44,854 epoch 1 - iter 60/60 - loss 0.01103375 - samples/sec: 14.34 - lr: 0.100000\n",
      "2023-02-05 21:03:44,858 ----------------------------------------------------------------------------------------------------\n",
      "2023-02-05 21:03:44,859 EPOCH 1 done: loss 0.0110 - lr 0.100000\n"
     ]
    },
    {
     "name": "stderr",
     "output_type": "stream",
     "text": [
      "100%|██████████| 16/16 [00:48<00:00,  3.02s/it]"
     ]
    },
    {
     "name": "stdout",
     "output_type": "stream",
     "text": [
      "2023-02-05 21:04:33,258 Evaluating as a multi-label problem: False\n",
      "2023-02-05 21:04:33,274 DEV : loss 0.0476328507065773 - f1-score (micro avg)  0.7183\n"
     ]
    },
    {
     "name": "stderr",
     "output_type": "stream",
     "text": [
      "\n"
     ]
    },
    {
     "name": "stdout",
     "output_type": "stream",
     "text": [
      "2023-02-05 21:04:33,778 BAD EPOCHS (no improvement): 0\n",
      "2023-02-05 21:04:33,782 saving best model\n",
      "2023-02-05 21:04:37,604 ----------------------------------------------------------------------------------------------------\n",
      "2023-02-05 21:04:57,799 epoch 2 - iter 6/60 - loss 0.03568759 - samples/sec: 11.95 - lr: 0.100000\n",
      "2023-02-05 21:05:17,617 epoch 2 - iter 12/60 - loss 0.02996587 - samples/sec: 12.17 - lr: 0.100000\n",
      "2023-02-05 21:05:36,463 epoch 2 - iter 18/60 - loss 0.02759967 - samples/sec: 12.80 - lr: 0.100000\n",
      "2023-02-05 21:05:55,296 epoch 2 - iter 24/60 - loss 0.02814578 - samples/sec: 12.81 - lr: 0.100000\n",
      "2023-02-05 21:06:13,900 epoch 2 - iter 30/60 - loss 0.02718586 - samples/sec: 12.97 - lr: 0.100000\n",
      "2023-02-05 21:06:33,454 epoch 2 - iter 36/60 - loss 0.02592038 - samples/sec: 12.49 - lr: 0.100000\n",
      "2023-02-05 21:06:52,703 epoch 2 - iter 42/60 - loss 0.02510488 - samples/sec: 12.54 - lr: 0.100000\n",
      "2023-02-05 21:07:12,483 epoch 2 - iter 48/60 - loss 0.02440841 - samples/sec: 12.20 - lr: 0.100000\n",
      "2023-02-05 21:07:31,544 epoch 2 - iter 54/60 - loss 0.02409389 - samples/sec: 12.66 - lr: 0.100000\n",
      "2023-02-05 21:07:48,346 epoch 2 - iter 60/60 - loss 0.02372974 - samples/sec: 14.37 - lr: 0.100000\n",
      "2023-02-05 21:07:48,348 ----------------------------------------------------------------------------------------------------\n",
      "2023-02-05 21:07:48,349 EPOCH 2 done: loss 0.0237 - lr 0.100000\n"
     ]
    },
    {
     "name": "stderr",
     "output_type": "stream",
     "text": [
      "100%|██████████| 16/16 [00:47<00:00,  2.99s/it]"
     ]
    },
    {
     "name": "stdout",
     "output_type": "stream",
     "text": [
      "2023-02-05 21:08:36,241 Evaluating as a multi-label problem: False\n",
      "2023-02-05 21:08:36,256 DEV : loss 0.02004816196858883 - f1-score (micro avg)  0.6227\n"
     ]
    },
    {
     "name": "stderr",
     "output_type": "stream",
     "text": [
      "\n"
     ]
    },
    {
     "name": "stdout",
     "output_type": "stream",
     "text": [
      "2023-02-05 21:08:36,539 BAD EPOCHS (no improvement): 1\n",
      "2023-02-05 21:08:36,542 ----------------------------------------------------------------------------------------------------\n",
      "2023-02-05 21:08:56,287 epoch 3 - iter 6/60 - loss 0.01587338 - samples/sec: 12.22 - lr: 0.100000\n",
      "2023-02-05 21:09:16,725 epoch 3 - iter 12/60 - loss 0.01581731 - samples/sec: 11.95 - lr: 0.100000\n",
      "2023-02-05 21:09:37,644 epoch 3 - iter 18/60 - loss 0.01597198 - samples/sec: 11.53 - lr: 0.100000\n",
      "2023-02-05 21:09:57,092 epoch 3 - iter 24/60 - loss 0.01671940 - samples/sec: 12.41 - lr: 0.100000\n",
      "2023-02-05 21:10:16,188 epoch 3 - iter 30/60 - loss 0.01755579 - samples/sec: 12.64 - lr: 0.100000\n",
      "2023-02-05 21:10:35,528 epoch 3 - iter 36/60 - loss 0.01723594 - samples/sec: 12.48 - lr: 0.100000\n",
      "2023-02-05 21:10:55,604 epoch 3 - iter 42/60 - loss 0.01692747 - samples/sec: 12.02 - lr: 0.100000\n",
      "2023-02-05 21:11:15,279 epoch 3 - iter 48/60 - loss 0.01663239 - samples/sec: 12.42 - lr: 0.100000\n",
      "2023-02-05 21:11:34,992 epoch 3 - iter 54/60 - loss 0.01659777 - samples/sec: 12.24 - lr: 0.100000\n",
      "2023-02-05 21:11:52,849 epoch 3 - iter 60/60 - loss 0.01677787 - samples/sec: 13.51 - lr: 0.100000\n",
      "2023-02-05 21:11:52,851 ----------------------------------------------------------------------------------------------------\n",
      "2023-02-05 21:11:52,852 EPOCH 3 done: loss 0.0168 - lr 0.100000\n"
     ]
    },
    {
     "name": "stderr",
     "output_type": "stream",
     "text": [
      "100%|██████████| 16/16 [00:49<00:00,  3.11s/it]"
     ]
    },
    {
     "name": "stdout",
     "output_type": "stream",
     "text": [
      "2023-02-05 21:12:42,552 Evaluating as a multi-label problem: False\n",
      "2023-02-05 21:12:42,567 DEV : loss 0.02050091326236725 - f1-score (micro avg)  0.6063\n"
     ]
    },
    {
     "name": "stderr",
     "output_type": "stream",
     "text": [
      "\n"
     ]
    },
    {
     "name": "stdout",
     "output_type": "stream",
     "text": [
      "2023-02-05 21:12:43,087 BAD EPOCHS (no improvement): 2\n",
      "2023-02-05 21:12:43,090 ----------------------------------------------------------------------------------------------------\n",
      "2023-02-05 21:13:03,598 epoch 4 - iter 6/60 - loss 0.02013460 - samples/sec: 11.76 - lr: 0.100000\n",
      "2023-02-05 21:13:24,862 epoch 4 - iter 12/60 - loss 0.01793275 - samples/sec: 11.34 - lr: 0.100000\n",
      "2023-02-05 21:13:45,595 epoch 4 - iter 18/60 - loss 0.01658345 - samples/sec: 11.63 - lr: 0.100000\n",
      "2023-02-05 21:14:05,827 epoch 4 - iter 24/60 - loss 0.01589356 - samples/sec: 12.07 - lr: 0.100000\n",
      "2023-02-05 21:14:26,097 epoch 4 - iter 30/60 - loss 0.01587788 - samples/sec: 11.90 - lr: 0.100000\n",
      "2023-02-05 21:14:46,047 epoch 4 - iter 36/60 - loss 0.01586557 - samples/sec: 12.09 - lr: 0.100000\n",
      "2023-02-05 21:15:06,915 epoch 4 - iter 42/60 - loss 0.01563811 - samples/sec: 11.56 - lr: 0.100000\n",
      "2023-02-05 21:15:27,155 epoch 4 - iter 48/60 - loss 0.01528147 - samples/sec: 11.92 - lr: 0.100000\n",
      "2023-02-05 21:15:46,397 epoch 4 - iter 54/60 - loss 0.01550888 - samples/sec: 12.54 - lr: 0.100000\n",
      "2023-02-05 21:16:04,441 epoch 4 - iter 60/60 - loss 0.01564127 - samples/sec: 13.55 - lr: 0.100000\n",
      "2023-02-05 21:16:04,444 ----------------------------------------------------------------------------------------------------\n",
      "2023-02-05 21:16:04,445 EPOCH 4 done: loss 0.0156 - lr 0.100000\n"
     ]
    },
    {
     "name": "stderr",
     "output_type": "stream",
     "text": [
      "100%|██████████| 16/16 [00:51<00:00,  3.21s/it]"
     ]
    },
    {
     "name": "stdout",
     "output_type": "stream",
     "text": [
      "2023-02-05 21:16:55,860 Evaluating as a multi-label problem: False\n",
      "2023-02-05 21:16:55,875 DEV : loss 0.017560387030243874 - f1-score (micro avg)  0.7282\n"
     ]
    },
    {
     "name": "stderr",
     "output_type": "stream",
     "text": [
      "\n"
     ]
    },
    {
     "name": "stdout",
     "output_type": "stream",
     "text": [
      "2023-02-05 21:16:56,358 BAD EPOCHS (no improvement): 0\n",
      "2023-02-05 21:16:56,360 saving best model\n",
      "2023-02-05 21:17:00,404 ----------------------------------------------------------------------------------------------------\n",
      "2023-02-05 21:17:20,601 epoch 5 - iter 6/60 - loss 0.01295086 - samples/sec: 11.94 - lr: 0.100000\n",
      "2023-02-05 21:17:40,910 epoch 5 - iter 12/60 - loss 0.01383975 - samples/sec: 11.88 - lr: 0.100000\n",
      "2023-02-05 21:18:00,533 epoch 5 - iter 18/60 - loss 0.01334614 - samples/sec: 12.29 - lr: 0.100000\n",
      "2023-02-05 21:18:21,281 epoch 5 - iter 24/60 - loss 0.01320140 - samples/sec: 11.63 - lr: 0.100000\n",
      "2023-02-05 21:18:41,899 epoch 5 - iter 30/60 - loss 0.01350683 - samples/sec: 11.70 - lr: 0.100000\n",
      "2023-02-05 21:19:01,760 epoch 5 - iter 36/60 - loss 0.01320510 - samples/sec: 12.30 - lr: 0.100000\n",
      "2023-02-05 21:19:23,132 epoch 5 - iter 42/60 - loss 0.01335210 - samples/sec: 11.28 - lr: 0.100000\n",
      "2023-02-05 21:19:44,263 epoch 5 - iter 48/60 - loss 0.01343392 - samples/sec: 11.41 - lr: 0.100000\n",
      "2023-02-05 21:20:04,028 epoch 5 - iter 54/60 - loss 0.01349496 - samples/sec: 12.20 - lr: 0.100000\n",
      "2023-02-05 21:20:21,871 epoch 5 - iter 60/60 - loss 0.01357676 - samples/sec: 13.52 - lr: 0.100000\n",
      "2023-02-05 21:20:21,874 ----------------------------------------------------------------------------------------------------\n",
      "2023-02-05 21:20:21,875 EPOCH 5 done: loss 0.0136 - lr 0.100000\n"
     ]
    },
    {
     "name": "stderr",
     "output_type": "stream",
     "text": [
      "100%|██████████| 16/16 [00:50<00:00,  3.14s/it]"
     ]
    },
    {
     "name": "stdout",
     "output_type": "stream",
     "text": [
      "2023-02-05 21:21:12,136 Evaluating as a multi-label problem: False\n",
      "2023-02-05 21:21:12,149 DEV : loss 0.018079934641718864 - f1-score (micro avg)  0.6771\n"
     ]
    },
    {
     "name": "stderr",
     "output_type": "stream",
     "text": [
      "\n"
     ]
    },
    {
     "name": "stdout",
     "output_type": "stream",
     "text": [
      "2023-02-05 21:21:12,427 BAD EPOCHS (no improvement): 1\n",
      "2023-02-05 21:21:12,431 ----------------------------------------------------------------------------------------------------\n",
      "2023-02-05 21:21:31,800 epoch 6 - iter 6/60 - loss 0.01250480 - samples/sec: 12.45 - lr: 0.100000\n",
      "2023-02-05 21:21:51,505 epoch 6 - iter 12/60 - loss 0.01227268 - samples/sec: 12.24 - lr: 0.100000\n",
      "2023-02-05 21:22:11,013 epoch 6 - iter 18/60 - loss 0.01251014 - samples/sec: 12.50 - lr: 0.100000\n",
      "2023-02-05 21:22:30,889 epoch 6 - iter 24/60 - loss 0.01276361 - samples/sec: 12.14 - lr: 0.100000\n",
      "2023-02-05 21:22:51,555 epoch 6 - iter 30/60 - loss 0.01274549 - samples/sec: 11.67 - lr: 0.100000\n",
      "2023-02-05 21:23:11,401 epoch 6 - iter 36/60 - loss 0.01287368 - samples/sec: 12.15 - lr: 0.100000\n",
      "2023-02-05 21:23:32,068 epoch 6 - iter 42/60 - loss 0.01291971 - samples/sec: 11.67 - lr: 0.100000\n",
      "2023-02-05 21:23:52,635 epoch 6 - iter 48/60 - loss 0.01301647 - samples/sec: 11.73 - lr: 0.100000\n",
      "2023-02-05 21:24:12,796 epoch 6 - iter 54/60 - loss 0.01315843 - samples/sec: 11.96 - lr: 0.100000\n",
      "2023-02-05 21:24:30,114 epoch 6 - iter 60/60 - loss 0.01335603 - samples/sec: 13.93 - lr: 0.100000\n",
      "2023-02-05 21:24:30,116 ----------------------------------------------------------------------------------------------------\n",
      "2023-02-05 21:24:30,117 EPOCH 6 done: loss 0.0134 - lr 0.100000\n"
     ]
    },
    {
     "name": "stderr",
     "output_type": "stream",
     "text": [
      "100%|██████████| 16/16 [00:51<00:00,  3.19s/it]"
     ]
    },
    {
     "name": "stdout",
     "output_type": "stream",
     "text": [
      "2023-02-05 21:25:21,142 Evaluating as a multi-label problem: False\n",
      "2023-02-05 21:25:21,156 DEV : loss 0.017333166673779488 - f1-score (micro avg)  0.6903\n"
     ]
    },
    {
     "name": "stderr",
     "output_type": "stream",
     "text": [
      "\n"
     ]
    },
    {
     "name": "stdout",
     "output_type": "stream",
     "text": [
      "2023-02-05 21:25:21,623 BAD EPOCHS (no improvement): 2\n",
      "2023-02-05 21:25:21,626 ----------------------------------------------------------------------------------------------------\n",
      "2023-02-05 21:25:42,279 epoch 7 - iter 6/60 - loss 0.01198123 - samples/sec: 11.68 - lr: 0.100000\n",
      "2023-02-05 21:26:04,006 epoch 7 - iter 12/60 - loss 0.01295800 - samples/sec: 11.10 - lr: 0.100000\n",
      "2023-02-05 21:26:24,652 epoch 7 - iter 18/60 - loss 0.01327799 - samples/sec: 11.68 - lr: 0.100000\n",
      "2023-02-05 21:26:45,198 epoch 7 - iter 24/60 - loss 0.01274560 - samples/sec: 11.74 - lr: 0.100000\n",
      "2023-02-05 21:27:05,888 epoch 7 - iter 30/60 - loss 0.01279959 - samples/sec: 11.80 - lr: 0.100000\n",
      "2023-02-05 21:27:26,502 epoch 7 - iter 36/60 - loss 0.01262806 - samples/sec: 11.70 - lr: 0.100000\n",
      "2023-02-05 21:27:46,460 epoch 7 - iter 42/60 - loss 0.01254780 - samples/sec: 12.09 - lr: 0.100000\n",
      "2023-02-05 21:28:05,786 epoch 7 - iter 48/60 - loss 0.01256254 - samples/sec: 12.48 - lr: 0.100000\n",
      "2023-02-05 21:28:26,186 epoch 7 - iter 54/60 - loss 0.01237504 - samples/sec: 11.82 - lr: 0.100000\n",
      "2023-02-05 21:28:44,669 epoch 7 - iter 60/60 - loss 0.01248785 - samples/sec: 13.05 - lr: 0.100000\n",
      "2023-02-05 21:28:44,671 ----------------------------------------------------------------------------------------------------\n",
      "2023-02-05 21:28:44,672 EPOCH 7 done: loss 0.0125 - lr 0.100000\n"
     ]
    },
    {
     "name": "stderr",
     "output_type": "stream",
     "text": [
      "100%|██████████| 16/16 [00:47<00:00,  3.00s/it]"
     ]
    },
    {
     "name": "stdout",
     "output_type": "stream",
     "text": [
      "2023-02-05 21:29:32,624 Evaluating as a multi-label problem: False\n",
      "2023-02-05 21:29:32,638 DEV : loss 0.015015997923910618 - f1-score (micro avg)  0.7479\n"
     ]
    },
    {
     "name": "stderr",
     "output_type": "stream",
     "text": [
      "\n"
     ]
    },
    {
     "name": "stdout",
     "output_type": "stream",
     "text": [
      "2023-02-05 21:29:32,911 BAD EPOCHS (no improvement): 0\n",
      "2023-02-05 21:29:32,917 saving best model\n",
      "2023-02-05 21:29:36,757 ----------------------------------------------------------------------------------------------------\n",
      "2023-02-05 21:29:56,346 epoch 8 - iter 6/60 - loss 0.01286758 - samples/sec: 12.31 - lr: 0.100000\n",
      "2023-02-05 21:30:16,621 epoch 8 - iter 12/60 - loss 0.01186133 - samples/sec: 12.03 - lr: 0.100000\n",
      "2023-02-05 21:30:36,766 epoch 8 - iter 18/60 - loss 0.01252062 - samples/sec: 11.98 - lr: 0.100000\n",
      "2023-02-05 21:30:56,182 epoch 8 - iter 24/60 - loss 0.01231934 - samples/sec: 12.43 - lr: 0.100000\n",
      "2023-02-05 21:31:15,944 epoch 8 - iter 30/60 - loss 0.01196691 - samples/sec: 12.21 - lr: 0.100000\n",
      "2023-02-05 21:31:35,875 epoch 8 - iter 36/60 - loss 0.01209636 - samples/sec: 12.10 - lr: 0.100000\n",
      "2023-02-05 21:31:55,962 epoch 8 - iter 42/60 - loss 0.01204241 - samples/sec: 12.15 - lr: 0.100000\n",
      "2023-02-05 21:32:16,201 epoch 8 - iter 48/60 - loss 0.01208364 - samples/sec: 11.92 - lr: 0.100000\n",
      "2023-02-05 21:32:36,181 epoch 8 - iter 54/60 - loss 0.01197964 - samples/sec: 12.07 - lr: 0.100000\n",
      "2023-02-05 21:32:53,543 epoch 8 - iter 60/60 - loss 0.01221595 - samples/sec: 13.90 - lr: 0.100000\n",
      "2023-02-05 21:32:53,545 ----------------------------------------------------------------------------------------------------\n",
      "2023-02-05 21:32:53,546 EPOCH 8 done: loss 0.0122 - lr 0.100000\n"
     ]
    },
    {
     "name": "stderr",
     "output_type": "stream",
     "text": [
      "100%|██████████| 16/16 [00:49<00:00,  3.09s/it]"
     ]
    },
    {
     "name": "stdout",
     "output_type": "stream",
     "text": [
      "2023-02-05 21:33:42,921 Evaluating as a multi-label problem: False\n",
      "2023-02-05 21:33:42,934 DEV : loss 0.012734134681522846 - f1-score (micro avg)  0.8089\n"
     ]
    },
    {
     "name": "stderr",
     "output_type": "stream",
     "text": [
      "\n"
     ]
    },
    {
     "name": "stdout",
     "output_type": "stream",
     "text": [
      "2023-02-05 21:33:43,210 BAD EPOCHS (no improvement): 0\n",
      "2023-02-05 21:33:43,215 saving best model\n",
      "2023-02-05 21:33:47,105 ----------------------------------------------------------------------------------------------------\n",
      "2023-02-05 21:34:06,488 epoch 9 - iter 6/60 - loss 0.01240410 - samples/sec: 12.45 - lr: 0.100000\n",
      "2023-02-05 21:34:26,573 epoch 9 - iter 12/60 - loss 0.01185403 - samples/sec: 12.01 - lr: 0.100000\n",
      "2023-02-05 21:34:46,391 epoch 9 - iter 18/60 - loss 0.01128908 - samples/sec: 12.17 - lr: 0.100000\n",
      "2023-02-05 21:35:07,441 epoch 9 - iter 24/60 - loss 0.01117140 - samples/sec: 11.58 - lr: 0.100000\n",
      "2023-02-05 21:35:28,213 epoch 9 - iter 30/60 - loss 0.01180064 - samples/sec: 11.61 - lr: 0.100000\n",
      "2023-02-05 21:35:48,342 epoch 9 - iter 36/60 - loss 0.01190719 - samples/sec: 11.98 - lr: 0.100000\n",
      "2023-02-05 21:36:09,786 epoch 9 - iter 42/60 - loss 0.01171137 - samples/sec: 11.25 - lr: 0.100000\n",
      "2023-02-05 21:36:29,032 epoch 9 - iter 48/60 - loss 0.01163340 - samples/sec: 12.54 - lr: 0.100000\n",
      "2023-02-05 21:36:48,503 epoch 9 - iter 54/60 - loss 0.01154005 - samples/sec: 12.39 - lr: 0.100000\n",
      "2023-02-05 21:37:06,190 epoch 9 - iter 60/60 - loss 0.01165940 - samples/sec: 13.64 - lr: 0.100000\n",
      "2023-02-05 21:37:06,193 ----------------------------------------------------------------------------------------------------\n",
      "2023-02-05 21:37:06,193 EPOCH 9 done: loss 0.0117 - lr 0.100000\n"
     ]
    },
    {
     "name": "stderr",
     "output_type": "stream",
     "text": [
      "100%|██████████| 16/16 [00:49<00:00,  3.09s/it]"
     ]
    },
    {
     "name": "stdout",
     "output_type": "stream",
     "text": [
      "2023-02-05 21:37:55,621 Evaluating as a multi-label problem: False\n",
      "2023-02-05 21:37:55,635 DEV : loss 0.023830227553844452 - f1-score (micro avg)  0.5947\n"
     ]
    },
    {
     "name": "stderr",
     "output_type": "stream",
     "text": [
      "\n"
     ]
    },
    {
     "name": "stdout",
     "output_type": "stream",
     "text": [
      "2023-02-05 21:37:56,105 BAD EPOCHS (no improvement): 1\n",
      "2023-02-05 21:37:56,108 ----------------------------------------------------------------------------------------------------\n",
      "2023-02-05 21:38:15,649 epoch 10 - iter 6/60 - loss 0.01225866 - samples/sec: 12.35 - lr: 0.100000\n",
      "2023-02-05 21:38:35,734 epoch 10 - iter 12/60 - loss 0.01132705 - samples/sec: 12.01 - lr: 0.100000\n",
      "2023-02-05 21:38:56,812 epoch 10 - iter 18/60 - loss 0.01157893 - samples/sec: 11.44 - lr: 0.100000\n",
      "2023-02-05 21:39:17,815 epoch 10 - iter 24/60 - loss 0.01133974 - samples/sec: 11.48 - lr: 0.100000\n",
      "2023-02-05 21:39:38,268 epoch 10 - iter 30/60 - loss 0.01139229 - samples/sec: 11.79 - lr: 0.100000\n",
      "2023-02-05 21:39:58,111 epoch 10 - iter 36/60 - loss 0.01141840 - samples/sec: 12.31 - lr: 0.100000\n",
      "2023-02-05 21:40:17,560 epoch 10 - iter 42/60 - loss 0.01141472 - samples/sec: 12.40 - lr: 0.100000\n",
      "2023-02-05 21:40:37,185 epoch 10 - iter 48/60 - loss 0.01131579 - samples/sec: 12.29 - lr: 0.100000\n",
      "2023-02-05 21:40:57,404 epoch 10 - iter 54/60 - loss 0.01133783 - samples/sec: 11.93 - lr: 0.100000\n",
      "2023-02-05 21:41:14,773 epoch 10 - iter 60/60 - loss 0.01153848 - samples/sec: 13.89 - lr: 0.100000\n",
      "2023-02-05 21:41:14,776 ----------------------------------------------------------------------------------------------------\n",
      "2023-02-05 21:41:14,777 EPOCH 10 done: loss 0.0115 - lr 0.100000\n"
     ]
    },
    {
     "name": "stderr",
     "output_type": "stream",
     "text": [
      "100%|██████████| 16/16 [00:49<00:00,  3.07s/it]"
     ]
    },
    {
     "name": "stdout",
     "output_type": "stream",
     "text": [
      "2023-02-05 21:42:03,892 Evaluating as a multi-label problem: False\n",
      "2023-02-05 21:42:03,906 DEV : loss 0.016108117997646332 - f1-score (micro avg)  0.7397\n"
     ]
    },
    {
     "name": "stderr",
     "output_type": "stream",
     "text": [
      "\n"
     ]
    },
    {
     "name": "stdout",
     "output_type": "stream",
     "text": [
      "2023-02-05 21:42:04,184 BAD EPOCHS (no improvement): 2\n",
      "2023-02-05 21:42:08,168 ----------------------------------------------------------------------------------------------------\n",
      "2023-02-05 21:42:08,171 loading file classifier/best-model.pt\n"
     ]
    },
    {
     "name": "stderr",
     "output_type": "stream",
     "text": [
      "100%|██████████| 16/16 [00:49<00:00,  3.12s/it]"
     ]
    },
    {
     "name": "stdout",
     "output_type": "stream",
     "text": [
      "2023-02-05 21:43:02,668 Evaluating as a multi-label problem: False\n",
      "2023-02-05 21:43:02,681 0.799\t0.799\t0.799\t0.799\n",
      "2023-02-05 21:43:02,682 \n",
      "Results:\n",
      "- F-score (micro) 0.799\n",
      "- F-score (macro) 0.7167\n",
      "- Accuracy 0.799\n",
      "\n",
      "By class:\n",
      "              precision    recall  f1-score   support\n",
      "\n",
      "          L3     0.8707    0.8828    0.8767       435\n",
      "          L2     0.5917    0.5299    0.5591       134\n",
      "          L1     0.6522    0.7895    0.7143        38\n",
      "\n",
      "    accuracy                         0.7990       607\n",
      "   macro avg     0.7049    0.7340    0.7167       607\n",
      "weighted avg     0.7955    0.7990    0.7964       607\n",
      "\n",
      "2023-02-05 21:43:02,683 ----------------------------------------------------------------------------------------------------\n"
     ]
    },
    {
     "name": "stderr",
     "output_type": "stream",
     "text": [
      "\n"
     ]
    },
    {
     "data": {
      "text/plain": [
       "{'test_score': 0.7990115321252059,\n",
       " 'dev_score_history': [0.7182866556836903,\n",
       "  0.6227347611202636,\n",
       "  0.6062602965403624,\n",
       "  0.728171334431631,\n",
       "  0.6771004942339374,\n",
       "  0.6902800658978583,\n",
       "  0.7479406919275123,\n",
       "  0.8088962108731467,\n",
       "  0.5947281713344317,\n",
       "  0.7397034596375618],\n",
       " 'train_loss_history': [0.011033754112401376,\n",
       "  0.023729736049735658,\n",
       "  0.016777870352768356,\n",
       "  0.015641272821241604,\n",
       "  0.013576763185414328,\n",
       "  0.013356028744525636,\n",
       "  0.012487846105763565,\n",
       "  0.012215946914774085,\n",
       "  0.011659395486342374,\n",
       "  0.011538479317108321],\n",
       " 'dev_loss_history': [0.0476328507065773,\n",
       "  0.02004816196858883,\n",
       "  0.02050091326236725,\n",
       "  0.017560387030243874,\n",
       "  0.018079934641718864,\n",
       "  0.017333166673779488,\n",
       "  0.015015997923910618,\n",
       "  0.012734134681522846,\n",
       "  0.023830227553844452,\n",
       "  0.016108117997646332]}"
      ]
     },
     "execution_count": 8,
     "metadata": {},
     "output_type": "execute_result"
    }
   ],
   "source": [
    "trainer = ModelTrainer(classifier, corpus)\n",
    "\n",
    "trainer.train('classifier', learning_rate=0.1, mini_batch_size = 40, max_epochs = 10)"
   ]
  }
 ],
 "metadata": {
  "kernelspec": {
   "display_name": "Python 3.10.4 64-bit ('spacy')",
   "language": "python",
   "name": "python3"
  },
  "language_info": {
   "codemirror_mode": {
    "name": "ipython",
    "version": 3
   },
   "file_extension": ".py",
   "mimetype": "text/x-python",
   "name": "python",
   "nbconvert_exporter": "python",
   "pygments_lexer": "ipython3",
   "version": "3.10.4"
  },
  "orig_nbformat": 4,
  "vscode": {
   "interpreter": {
    "hash": "049351683cbfcc6592fe172be1f7bdb3ebd27b203ddaf2bcbd9755e634118e44"
   }
  }
 },
 "nbformat": 4,
 "nbformat_minor": 2
}
